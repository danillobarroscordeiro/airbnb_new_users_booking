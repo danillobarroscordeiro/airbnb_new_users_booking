{
 "cells": [
  {
   "cell_type": "markdown",
   "id": "bfa2bcfb-bc37-4270-a1ec-f5c9e5d99ab3",
   "metadata": {},
   "source": [
    "# 0.0 Functions and Imports"
   ]
  },
  {
   "cell_type": "code",
   "execution_count": 21,
   "id": "3181772e-c2c2-4458-8cf4-8fd7f24c645b",
   "metadata": {
    "execution": {
     "iopub.execute_input": "2022-12-04T17:18:32.295192Z",
     "iopub.status.busy": "2022-12-04T17:18:32.294954Z",
     "iopub.status.idle": "2022-12-04T17:18:32.306153Z",
     "shell.execute_reply": "2022-12-04T17:18:32.305750Z",
     "shell.execute_reply.started": "2022-12-04T17:18:32.295173Z"
    },
    "tags": []
   },
   "outputs": [
    {
     "data": {
      "text/html": [],
      "text/plain": [
       "<IPython.core.display.HTML object>"
      ]
     },
     "metadata": {},
     "output_type": "display_data"
    }
   ],
   "source": [
    "import numpy as np\n",
    "import pandas as pd\n",
    "from matplotlib import pyplot as plt\n",
    "from datetime import datetime as dt\n",
    "import dtype_diet\n",
    "from IPython.display import display, HTML\n",
    "from IPython.display import Image\n",
    "import seaborn as sns\n",
    "import sweetviz as sv\n",
    "from scikitplot import metrics as mt\n",
    "\n",
    "pd.set_option('display.float_format', lambda x: '%.2f' % x)\n",
    "\n",
    "def jupyter_settings():\n",
    "    %matplotlib inline\n",
    "    plt.style.use( 'bmh' )\n",
    "    plt.rcParams['figure.figsize'] = [30, 20]\n",
    "    plt.rcParams['font.size'] = 19\n",
    "    display( HTML( '') )\n",
    "    pd.set_option( 'display.expand_frame_repr', False )\n",
    "    pd.options.display.max_columns = None\n",
    "    sns.set(font_scale=1.5)\n",
    "jupyter_settings()\n",
    "\n",
    "\n",
    "def data_description(df):\n",
    "    print('Variables:\\n\\n{}'.format(df.dtypes), end='\\n\\n')\n",
    "    print('Number of rows {}'.format(df.shape[0]), end='\\n\\n')\n",
    "    print('Number of columns {}'.format(df.shape[1]), end='\\n\\n')\n",
    "    print('NA analysis'.format(end='\\n') )\n",
    "    for i in df.columns:\n",
    "        print('column {}: {} {}'.format(i,df[i].isna().any(), df[i].isna().sum() ) )"
   ]
  },
  {
   "cell_type": "markdown",
   "id": "2d1c9893-0ef5-4b5e-98ba-fbcfd186ae1d",
   "metadata": {
    "execution": {
     "iopub.execute_input": "2022-11-12T14:42:15.307136Z",
     "iopub.status.busy": "2022-11-12T14:42:15.306899Z",
     "iopub.status.idle": "2022-11-12T14:42:15.309864Z",
     "shell.execute_reply": "2022-11-12T14:42:15.309409Z",
     "shell.execute_reply.started": "2022-11-12T14:42:15.307116Z"
    },
    "tags": []
   },
   "source": [
    "# 1.0 Loading data"
   ]
  },
  {
   "cell_type": "code",
   "execution_count": 2,
   "id": "f2d151a3-4162-46ea-a929-1de805a689d2",
   "metadata": {
    "execution": {
     "iopub.execute_input": "2022-12-04T15:25:29.314229Z",
     "iopub.status.busy": "2022-12-04T15:25:29.314079Z",
     "iopub.status.idle": "2022-12-04T15:25:30.498553Z",
     "shell.execute_reply": "2022-12-04T15:25:30.498096Z",
     "shell.execute_reply.started": "2022-12-04T15:25:29.314217Z"
    },
    "tags": []
   },
   "outputs": [],
   "source": [
    "df_users = pd.read_csv('../data/raw/train_users_2.csv', low_memory=True)\n",
    "df_otimized = dtype_diet.report_on_dataframe(df_users)\n",
    "df_users = dtype_diet.optimize_dtypes(df_users, df_otimized)\n",
    "\n",
    "del(df_otimized)"
   ]
  },
  {
   "cell_type": "code",
   "execution_count": 11,
   "id": "67beb826-92b9-4e49-8577-28c457971736",
   "metadata": {
    "execution": {
     "iopub.execute_input": "2022-12-03T12:00:45.750831Z",
     "iopub.status.busy": "2022-12-03T12:00:45.750598Z",
     "iopub.status.idle": "2022-12-03T12:00:45.759991Z",
     "shell.execute_reply": "2022-12-03T12:00:45.759600Z",
     "shell.execute_reply.started": "2022-12-03T12:00:45.750819Z"
    },
    "tags": []
   },
   "outputs": [
    {
     "data": {
      "text/html": [
       "<div>\n",
       "<style scoped>\n",
       "    .dataframe tbody tr th:only-of-type {\n",
       "        vertical-align: middle;\n",
       "    }\n",
       "\n",
       "    .dataframe tbody tr th {\n",
       "        vertical-align: top;\n",
       "    }\n",
       "\n",
       "    .dataframe thead th {\n",
       "        text-align: right;\n",
       "    }\n",
       "</style>\n",
       "<table border=\"1\" class=\"dataframe\">\n",
       "  <thead>\n",
       "    <tr style=\"text-align: right;\">\n",
       "      <th></th>\n",
       "      <th>id</th>\n",
       "      <th>date_account_created</th>\n",
       "      <th>timestamp_first_active</th>\n",
       "      <th>date_first_booking</th>\n",
       "      <th>gender</th>\n",
       "      <th>age</th>\n",
       "      <th>signup_method</th>\n",
       "      <th>signup_flow</th>\n",
       "      <th>language</th>\n",
       "      <th>affiliate_channel</th>\n",
       "      <th>affiliate_provider</th>\n",
       "      <th>first_affiliate_tracked</th>\n",
       "      <th>signup_app</th>\n",
       "      <th>first_device_type</th>\n",
       "      <th>first_browser</th>\n",
       "      <th>country_destination</th>\n",
       "    </tr>\n",
       "  </thead>\n",
       "  <tbody>\n",
       "    <tr>\n",
       "      <th>0</th>\n",
       "      <td>gxn3p5htnn</td>\n",
       "      <td>2010-06-28</td>\n",
       "      <td>20090319043255</td>\n",
       "      <td>NaN</td>\n",
       "      <td>-unknown-</td>\n",
       "      <td>NaN</td>\n",
       "      <td>facebook</td>\n",
       "      <td>0</td>\n",
       "      <td>en</td>\n",
       "      <td>direct</td>\n",
       "      <td>direct</td>\n",
       "      <td>untracked</td>\n",
       "      <td>Web</td>\n",
       "      <td>Mac Desktop</td>\n",
       "      <td>Chrome</td>\n",
       "      <td>NDF</td>\n",
       "    </tr>\n",
       "    <tr>\n",
       "      <th>1</th>\n",
       "      <td>820tgsjxq7</td>\n",
       "      <td>2011-05-25</td>\n",
       "      <td>20090523174809</td>\n",
       "      <td>NaN</td>\n",
       "      <td>MALE</td>\n",
       "      <td>38.00</td>\n",
       "      <td>facebook</td>\n",
       "      <td>0</td>\n",
       "      <td>en</td>\n",
       "      <td>seo</td>\n",
       "      <td>google</td>\n",
       "      <td>untracked</td>\n",
       "      <td>Web</td>\n",
       "      <td>Mac Desktop</td>\n",
       "      <td>Chrome</td>\n",
       "      <td>NDF</td>\n",
       "    </tr>\n",
       "    <tr>\n",
       "      <th>2</th>\n",
       "      <td>4ft3gnwmtx</td>\n",
       "      <td>2010-09-28</td>\n",
       "      <td>20090609231247</td>\n",
       "      <td>2010-08-02</td>\n",
       "      <td>FEMALE</td>\n",
       "      <td>56.00</td>\n",
       "      <td>basic</td>\n",
       "      <td>3</td>\n",
       "      <td>en</td>\n",
       "      <td>direct</td>\n",
       "      <td>direct</td>\n",
       "      <td>untracked</td>\n",
       "      <td>Web</td>\n",
       "      <td>Windows Desktop</td>\n",
       "      <td>IE</td>\n",
       "      <td>US</td>\n",
       "    </tr>\n",
       "    <tr>\n",
       "      <th>3</th>\n",
       "      <td>bjjt8pjhuk</td>\n",
       "      <td>2011-12-05</td>\n",
       "      <td>20091031060129</td>\n",
       "      <td>2012-09-08</td>\n",
       "      <td>FEMALE</td>\n",
       "      <td>42.00</td>\n",
       "      <td>facebook</td>\n",
       "      <td>0</td>\n",
       "      <td>en</td>\n",
       "      <td>direct</td>\n",
       "      <td>direct</td>\n",
       "      <td>untracked</td>\n",
       "      <td>Web</td>\n",
       "      <td>Mac Desktop</td>\n",
       "      <td>Firefox</td>\n",
       "      <td>other</td>\n",
       "    </tr>\n",
       "    <tr>\n",
       "      <th>4</th>\n",
       "      <td>87mebub9p4</td>\n",
       "      <td>2010-09-14</td>\n",
       "      <td>20091208061105</td>\n",
       "      <td>2010-02-18</td>\n",
       "      <td>-unknown-</td>\n",
       "      <td>41.00</td>\n",
       "      <td>basic</td>\n",
       "      <td>0</td>\n",
       "      <td>en</td>\n",
       "      <td>direct</td>\n",
       "      <td>direct</td>\n",
       "      <td>untracked</td>\n",
       "      <td>Web</td>\n",
       "      <td>Mac Desktop</td>\n",
       "      <td>Chrome</td>\n",
       "      <td>US</td>\n",
       "    </tr>\n",
       "  </tbody>\n",
       "</table>\n",
       "</div>"
      ],
      "text/plain": [
       "           id date_account_created  timestamp_first_active date_first_booking     gender   age signup_method  signup_flow language affiliate_channel affiliate_provider first_affiliate_tracked signup_app first_device_type first_browser country_destination\n",
       "0  gxn3p5htnn           2010-06-28          20090319043255                NaN  -unknown-   NaN      facebook            0       en            direct             direct               untracked        Web       Mac Desktop        Chrome                 NDF\n",
       "1  820tgsjxq7           2011-05-25          20090523174809                NaN       MALE 38.00      facebook            0       en               seo             google               untracked        Web       Mac Desktop        Chrome                 NDF\n",
       "2  4ft3gnwmtx           2010-09-28          20090609231247         2010-08-02     FEMALE 56.00         basic            3       en            direct             direct               untracked        Web   Windows Desktop            IE                  US\n",
       "3  bjjt8pjhuk           2011-12-05          20091031060129         2012-09-08     FEMALE 42.00      facebook            0       en            direct             direct               untracked        Web       Mac Desktop       Firefox               other\n",
       "4  87mebub9p4           2010-09-14          20091208061105         2010-02-18  -unknown- 41.00         basic            0       en            direct             direct               untracked        Web       Mac Desktop        Chrome                  US"
      ]
     },
     "execution_count": 11,
     "metadata": {},
     "output_type": "execute_result"
    }
   ],
   "source": [
    "df_users.head()"
   ]
  },
  {
   "cell_type": "markdown",
   "id": "2803b1e4-94fd-44a5-8d67-f4aa14c6e9f1",
   "metadata": {
    "tags": []
   },
   "source": [
    "# 2.0 Data Description"
   ]
  },
  {
   "cell_type": "code",
   "execution_count": 3,
   "id": "e2b725ce-b67c-40d3-9a75-fc039270c5d1",
   "metadata": {
    "execution": {
     "iopub.execute_input": "2022-12-04T15:25:31.443153Z",
     "iopub.status.busy": "2022-12-04T15:25:31.442919Z",
     "iopub.status.idle": "2022-12-04T15:25:31.448098Z",
     "shell.execute_reply": "2022-12-04T15:25:31.447591Z",
     "shell.execute_reply.started": "2022-12-04T15:25:31.443132Z"
    },
    "tags": []
   },
   "outputs": [],
   "source": [
    "df1 = df_users.copy()"
   ]
  },
  {
   "cell_type": "code",
   "execution_count": 314,
   "id": "f9f9a148-59cd-488e-b539-aaf731bc2472",
   "metadata": {
    "execution": {
     "iopub.execute_input": "2022-12-04T14:16:50.921493Z",
     "iopub.status.busy": "2022-12-04T14:16:50.921255Z",
     "iopub.status.idle": "2022-12-04T14:16:50.958428Z",
     "shell.execute_reply": "2022-12-04T14:16:50.957818Z",
     "shell.execute_reply.started": "2022-12-04T14:16:50.921475Z"
    },
    "tags": []
   },
   "outputs": [
    {
     "name": "stdout",
     "output_type": "stream",
     "text": [
      "Variables:\n",
      "\n",
      "id                           object\n",
      "date_account_created       category\n",
      "timestamp_first_active        int64\n",
      "date_first_booking         category\n",
      "gender                     category\n",
      "age                         float16\n",
      "signup_method              category\n",
      "signup_flow                    int8\n",
      "language                   category\n",
      "affiliate_channel          category\n",
      "affiliate_provider         category\n",
      "first_affiliate_tracked    category\n",
      "signup_app                 category\n",
      "first_device_type          category\n",
      "first_browser              category\n",
      "country_destination        category\n",
      "dtype: object\n",
      "\n",
      "Number of rows 213451\n",
      "\n",
      "Number of columns 16\n",
      "\n",
      "NA analysis\n",
      "column id: False 0\n",
      "column date_account_created: False 0\n",
      "column timestamp_first_active: False 0\n",
      "column date_first_booking: True 124543\n",
      "column gender: False 0\n",
      "column age: True 87990\n",
      "column signup_method: False 0\n",
      "column signup_flow: False 0\n",
      "column language: False 0\n",
      "column affiliate_channel: False 0\n",
      "column affiliate_provider: False 0\n",
      "column first_affiliate_tracked: True 6065\n",
      "column signup_app: False 0\n",
      "column first_device_type: False 0\n",
      "column first_browser: False 0\n",
      "column country_destination: False 0\n"
     ]
    }
   ],
   "source": [
    "data_description(df_users)"
   ]
  },
  {
   "cell_type": "markdown",
   "id": "0473cc82-3ae5-4ee5-8561-822a58a1c79d",
   "metadata": {
    "execution": {
     "iopub.execute_input": "2022-11-12T14:47:14.546794Z",
     "iopub.status.busy": "2022-11-12T14:47:14.546204Z",
     "iopub.status.idle": "2022-11-12T14:47:14.549830Z",
     "shell.execute_reply": "2022-11-12T14:47:14.549177Z",
     "shell.execute_reply.started": "2022-11-12T14:47:14.546767Z"
    },
    "tags": []
   },
   "source": [
    "## 2.1 Change Data Type"
   ]
  },
  {
   "cell_type": "code",
   "execution_count": 4,
   "id": "4a853f45-8e14-4c5f-a97f-52e65329fae8",
   "metadata": {
    "execution": {
     "iopub.execute_input": "2022-12-04T15:25:33.103407Z",
     "iopub.status.busy": "2022-12-04T15:25:33.103171Z",
     "iopub.status.idle": "2022-12-04T15:25:33.602029Z",
     "shell.execute_reply": "2022-12-04T15:25:33.601482Z",
     "shell.execute_reply.started": "2022-12-04T15:25:33.103387Z"
    },
    "tags": []
   },
   "outputs": [],
   "source": [
    "# timestamp_first_active\n",
    "df1['timestamp_first_active'] = pd.to_datetime(df1['timestamp_first_active'], format='%Y%m%d%H%M%S') \n",
    "\n",
    "#date_account_created\n",
    "df1['date_account_created']= df1['date_account_created'].astype('datetime64[ns]')\n",
    "                                           \n",
    "#date_first_booking\n",
    "df1['date_first_booking']= df1['date_first_booking'].astype('datetime64[ns]')\n",
    "\n",
    "#signup_flow\n",
    "df1['signup_flow']= df1['signup_flow'].astype('category')\n"
   ]
  },
  {
   "cell_type": "markdown",
   "id": "b28f0eec-febb-45b4-a079-dfbc391772cb",
   "metadata": {},
   "source": [
    "## 2.2 Check unique values"
   ]
  },
  {
   "cell_type": "code",
   "execution_count": 87,
   "id": "fd1f2ba9-d764-497b-9f45-f26f362d8986",
   "metadata": {
    "execution": {
     "iopub.execute_input": "2022-12-03T12:57:00.525903Z",
     "iopub.status.busy": "2022-12-03T12:57:00.525738Z",
     "iopub.status.idle": "2022-12-03T12:57:00.541698Z",
     "shell.execute_reply": "2022-12-03T12:57:00.541252Z",
     "shell.execute_reply.started": "2022-12-03T12:57:00.525891Z"
    },
    "tags": []
   },
   "outputs": [
    {
     "name": "stdout",
     "output_type": "stream",
     "text": [
      "column gender: ['-unknown-', 'MALE', 'FEMALE', 'OTHER']\n",
      "\n",
      "column signup_method: ['facebook', 'basic', 'google']\n",
      "\n",
      "column signup_flow: [0, 3, 2, 1, 24, 8, 6, 5, 10, 25, 12, 4, 16, 15, 20, 21, 23]\n",
      "\n",
      "column language: ['en', 'fr', 'de', 'es', 'it', 'pt', 'zh', 'ko', 'ja', 'ru', 'pl', 'el', 'sv', 'nl', 'hu', 'da', 'id', 'fi', 'no', 'tr', 'th', 'cs', 'hr', 'ca', 'is']\n",
      "\n",
      "column affiliate_channel: ['direct', 'seo', 'other', 'sem-non-brand', 'content', 'sem-brand', 'remarketing', 'api']\n",
      "\n",
      "column affiliate_provider: ['direct', 'google', 'other', 'craigslist', 'facebook', 'vast', 'bing', 'meetup', 'facebook-open-graph', 'email-marketing', 'yahoo', 'padmapper', 'gsp', 'wayn', 'naver', 'baidu', 'yandex', 'daum']\n",
      "\n",
      "column first_affiliate_tracked: ['untracked', 'omg', nan, 'linked', 'tracked-other', 'product', 'marketing', 'local ops']\n",
      "\n",
      "column signup_app: ['Web', 'Moweb', 'iOS', 'Android']\n",
      "\n",
      "column first_device_type: ['Mac Desktop', 'Windows Desktop', 'iPhone', 'Other/Unknown', 'Desktop (Other)', 'Android Tablet', 'iPad', 'Android Phone', 'SmartPhone (Other)']\n",
      "\n",
      "column first_browser: ['Chrome', 'IE', 'Firefox', 'Safari', '-unknown-', 'Mobile Safari', 'Chrome Mobile', 'RockMelt', 'Chromium', 'Android Browser', 'AOL Explorer', 'Palm Pre web browser', 'Mobile Firefox', 'Opera', 'TenFourFox', 'IE Mobile', 'Apple Mail', 'Silk', 'Camino', 'Arora', 'BlackBerry Browser', 'SeaMonkey', 'Iron', 'Sogou Explorer', 'IceWeasel', 'Opera Mini', 'SiteKiosk', 'Maxthon', 'Kindle Browser', 'CoolNovo', 'Conkeror', 'wOSBrowser', 'Google Earth', 'Crazy Browser', 'Mozilla', 'OmniWeb', 'PS Vita browser', 'NetNewsWire', 'CometBird', 'Comodo Dragon', 'Flock', 'Pale Moon', 'Avant Browser', 'Opera Mobile', 'Yandex.Browser', 'TheWorld Browser', 'SlimBrowser', 'Epic', 'Stainless', 'Googlebot', 'Outlook 2007', 'IceDragon']\n",
      "\n",
      "column country_destination: ['NDF', 'US', 'other', 'FR', 'CA', 'GB', 'ES', 'IT', 'PT', 'NL', 'DE', 'AU']\n",
      "\n"
     ]
    }
   ],
   "source": [
    "aux1 = df1.select_dtypes('category')\n",
    "for i in aux1.columns:\n",
    "    print('column {}: {}'.format(i,aux1[i].unique().tolist() ), end='\\n\\n' )"
   ]
  },
  {
   "cell_type": "code",
   "execution_count": 196,
   "id": "b12ee306-7d11-4691-ac85-c0b1a190dcd5",
   "metadata": {
    "execution": {
     "iopub.execute_input": "2022-12-04T12:26:14.501879Z",
     "iopub.status.busy": "2022-12-04T12:26:14.501675Z",
     "iopub.status.idle": "2022-12-04T12:26:14.516414Z",
     "shell.execute_reply": "2022-12-04T12:26:14.515922Z",
     "shell.execute_reply.started": "2022-12-04T12:26:14.501863Z"
    },
    "tags": []
   },
   "outputs": [
    {
     "data": {
      "text/plain": [
       "array([  38,   56,   42,   41,   46,   47,   50,   36,   37,   33,   31,\n",
       "         29,   30,   40,   26,   32,   35,   59,   49,   44,   34,   28,\n",
       "         19,   53,   52,   39,   57,   25,   54,   69,   63,   43,   55,\n",
       "         65,   58,   61,   18,    5,   27,   45,   60,   48,   51,   64,\n",
       "         72,   70,   67,   73, 2014,  104,   66,  105,   68,   95,   24,\n",
       "         94,   75,   79,   62, 2013,   16,    4,   23,  101,   98,   76,\n",
       "         74,   87,   92,  115,   71,   84,  107,   78,   99,  110,  102,\n",
       "         82,   77,   22,   89,   21,   15,   20,  103,    2,   17,   86,\n",
       "         97,   81,   90,   88,   80,  100,   91,  106,   83,   85,  108,\n",
       "        113,  109,   93,   96, 1949,  111, 1931, 1932,  112, 1928,    1,\n",
       "       1936, 1933, 1935, 1925, 1952,  150, 1927,  132, 1953, 1942, 1995,\n",
       "       2008, 1924, 1929, 1947, 1938, 1926])"
      ]
     },
     "execution_count": 196,
     "metadata": {},
     "output_type": "execute_result"
    }
   ],
   "source": [
    "#Check unique values for age\n",
    "df1[pd.notnull(df1['age'] ) ]['age'].astype(int).unique()"
   ]
  },
  {
   "cell_type": "code",
   "execution_count": 199,
   "id": "8a469a39-9e58-4c80-ad90-9c914bf25075",
   "metadata": {
    "execution": {
     "iopub.execute_input": "2022-12-04T12:29:22.561607Z",
     "iopub.status.busy": "2022-12-04T12:29:22.561455Z",
     "iopub.status.idle": "2022-12-04T12:29:22.953454Z",
     "shell.execute_reply": "2022-12-04T12:29:22.953051Z",
     "shell.execute_reply.started": "2022-12-04T12:29:22.561597Z"
    },
    "tags": []
   },
   "outputs": [
    {
     "data": {
      "text/plain": [
       "<AxesSubplot: xlabel='age', ylabel='Count'>"
      ]
     },
     "execution_count": 199,
     "metadata": {},
     "output_type": "execute_result"
    },
    {
     "data": {
      "image/png": "[encoded data removed]",
      "text/plain": [
       "<Figure size 3000x2000 with 1 Axes>"
      ]
     },
     "metadata": {},
     "output_type": "display_data"
    }
   ],
   "source": [
    "#checking distribution of age without NAs and filtering ages less than 90 and greater than 15\n",
    "sns.histplot(x='age', data=df1[ (df1['age'] < 90) & (df1['age'] > 15 ) ] )"
   ]
  },
  {
   "cell_type": "markdown",
   "id": "7ef01d40-ad37-43ce-8067-94b75919ab3e",
   "metadata": {
    "execution": {
     "iopub.execute_input": "2022-11-12T14:55:32.489636Z",
     "iopub.status.busy": "2022-11-12T14:55:32.489382Z",
     "iopub.status.idle": "2022-11-12T14:55:32.492348Z",
     "shell.execute_reply": "2022-11-12T14:55:32.491927Z",
     "shell.execute_reply.started": "2022-11-12T14:55:32.489616Z"
    },
    "tags": []
   },
   "source": [
    "## 2.3 Check Balanced Data"
   ]
  },
  {
   "cell_type": "code",
   "execution_count": 60,
   "id": "696e31b8-4830-4bdf-903b-f2dc16594c02",
   "metadata": {
    "execution": {
     "iopub.execute_input": "2022-11-12T15:14:41.948682Z",
     "iopub.status.busy": "2022-11-12T15:14:41.948431Z",
     "iopub.status.idle": "2022-11-12T15:14:42.047649Z",
     "shell.execute_reply": "2022-11-12T15:14:42.047143Z",
     "shell.execute_reply.started": "2022-11-12T15:14:41.948662Z"
    },
    "tags": []
   },
   "outputs": [
    {
     "data": {
      "text/plain": [
       "US      0.71\n",
       "other   0.11\n",
       "FR      0.05\n",
       "IT      0.03\n",
       "GB      0.03\n",
       "ES      0.02\n",
       "CA      0.02\n",
       "DE      0.01\n",
       "NL      0.01\n",
       "AU      0.01\n",
       "PT      0.00\n",
       "NDF     0.00\n",
       "Name: country_destination, dtype: float64"
      ]
     },
     "execution_count": 60,
     "metadata": {},
     "output_type": "execute_result"
    }
   ],
   "source": [
    "df1['country_destination'].value_counts(normalize=True)"
   ]
  },
  {
   "cell_type": "code",
   "execution_count": 76,
   "id": "5fef3f49-3387-4c71-827a-e7750932dffa",
   "metadata": {
    "execution": {
     "iopub.execute_input": "2022-12-03T12:44:20.064187Z",
     "iopub.status.busy": "2022-12-03T12:44:20.063949Z",
     "iopub.status.idle": "2022-12-03T12:44:20.070256Z",
     "shell.execute_reply": "2022-12-03T12:44:20.069752Z",
     "shell.execute_reply.started": "2022-12-03T12:44:20.064167Z"
    },
    "tags": []
   },
   "outputs": [
    {
     "data": {
      "text/plain": [
       "-unknown-   0.45\n",
       "FEMALE      0.30\n",
       "MALE        0.26\n",
       "OTHER       0.00\n",
       "Name: gender, dtype: float64"
      ]
     },
     "execution_count": 76,
     "metadata": {},
     "output_type": "execute_result"
    }
   ],
   "source": [
    "df1['gender'].value_counts(normalize=True)"
   ]
  },
  {
   "cell_type": "markdown",
   "id": "922662a0-28c6-4eea-a0c8-500864cc5dd0",
   "metadata": {},
   "source": [
    "## 2.4 NA cleaning/filling"
   ]
  },
  {
   "cell_type": "code",
   "execution_count": 5,
   "id": "ba0677ed-dd4b-4973-83d0-15088e5128f0",
   "metadata": {
    "execution": {
     "iopub.execute_input": "2022-12-04T15:25:37.341513Z",
     "iopub.status.busy": "2022-12-04T15:25:37.341283Z",
     "iopub.status.idle": "2022-12-04T15:25:40.402253Z",
     "shell.execute_reply": "2022-12-04T15:25:40.401854Z",
     "shell.execute_reply.started": "2022-12-04T15:25:37.341494Z"
    },
    "tags": []
   },
   "outputs": [],
   "source": [
    "# date_first_booking\n",
    "df1['date_first_booking'] = df1[['date_first_booking','date_account_created']].apply(lambda x: x[1] if pd.isna(x[0]) else x[0] , axis=1)\n",
    "\n",
    "#age\n",
    "age_median = df1[( (df1['age'] < 90) & (df1['age'] > 15) ) & (pd.notnull(df1['age'] ) ) ]['age'].median().astype(int)\n",
    "df1['age'] = df1['age'].apply(lambda x: int(x) if  (15 < x < 90) else age_median)\n",
    "df1['age'].astype(int)\n",
    "# column first_affiliate_tracked\n",
    "df1['first_affiliate_tracked'].fillna('untracked', inplace=True)\n",
    "#gender\n",
    "df1['gender'] = df1['gender'].apply(lambda x: '-unknown-' if x == 'OTHER' else x)\n",
    "df1['gender'] = df1['gender'].astype('category')"
   ]
  },
  {
   "cell_type": "markdown",
   "id": "67c0b985-5f04-4310-a94b-af0197040710",
   "metadata": {},
   "source": [
    "# 3.0 Descriptive Statistics"
   ]
  },
  {
   "cell_type": "code",
   "execution_count": 6,
   "id": "56877b0b-c2ec-436a-b3d3-653e4641336a",
   "metadata": {
    "execution": {
     "iopub.execute_input": "2022-12-04T15:25:41.127701Z",
     "iopub.status.busy": "2022-12-04T15:25:41.127456Z",
     "iopub.status.idle": "2022-12-04T15:25:41.134688Z",
     "shell.execute_reply": "2022-12-04T15:25:41.134044Z",
     "shell.execute_reply.started": "2022-12-04T15:25:41.127682Z"
    },
    "tags": []
   },
   "outputs": [],
   "source": [
    "df2 = df1.copy()"
   ]
  },
  {
   "cell_type": "code",
   "execution_count": 18,
   "id": "9cdcfd61-6fbf-4b96-bba6-9af59ce0a6f2",
   "metadata": {
    "execution": {
     "iopub.execute_input": "2022-12-04T17:01:07.492926Z",
     "iopub.status.busy": "2022-12-04T17:01:07.492772Z",
     "iopub.status.idle": "2022-12-04T17:01:19.088613Z",
     "shell.execute_reply": "2022-12-04T17:01:19.088271Z",
     "shell.execute_reply.started": "2022-12-04T17:01:07.492915Z"
    },
    "tags": []
   },
   "outputs": [
    {
     "name": "stderr",
     "output_type": "stream",
     "text": [
      "/home/dbcordeiro/anaconda3/envs/airbnb_new_users_booking/lib/python3.11/site-packages/sweetviz/dataframe_report.py:74: FutureWarning: iteritems is deprecated and will be removed in a future version. Use .items instead.\n",
      "  all_source_names = [cur_name for cur_name, cur_series in source_df.iteritems()]\n",
      "/home/dbcordeiro/anaconda3/envs/airbnb_new_users_booking/lib/python3.11/site-packages/sweetviz/dataframe_report.py:109: FutureWarning: iteritems is deprecated and will be removed in a future version. Use .items instead.\n",
      "  filtered_series_names_in_source = [cur_name for cur_name, cur_series in source_df.iteritems()\n"
     ]
    },
    {
     "data": {
      "application/vnd.jupyter.widget-view+json": {
       "model_id": "5feec7d5f85f464589ce7bd1156b323b",
       "version_major": 2,
       "version_minor": 0
      },
      "text/plain": [
       "                                             |      | [  0%]   00:00 -> (? left)"
      ]
     },
     "metadata": {},
     "output_type": "display_data"
    },
    {
     "name": "stderr",
     "output_type": "stream",
     "text": [
      "/home/dbcordeiro/anaconda3/envs/airbnb_new_users_booking/lib/python3.11/site-packages/sweetviz/series_analyzer_text.py:19: FutureWarning: iteritems is deprecated and will be removed in a future version. Use .items instead.\n",
      "  for item in to_process.source_counts[\"value_counts_without_nan\"].iteritems():\n",
      "/home/dbcordeiro/anaconda3/envs/airbnb_new_users_booking/lib/python3.11/site-packages/sweetviz/series_analyzer_text.py:19: FutureWarning: iteritems is deprecated and will be removed in a future version. Use .items instead.\n",
      "  for item in to_process.source_counts[\"value_counts_without_nan\"].iteritems():\n",
      "/home/dbcordeiro/anaconda3/envs/airbnb_new_users_booking/lib/python3.11/site-packages/sweetviz/series_analyzer_text.py:19: FutureWarning: iteritems is deprecated and will be removed in a future version. Use .items instead.\n",
      "  for item in to_process.source_counts[\"value_counts_without_nan\"].iteritems():\n",
      "/home/dbcordeiro/anaconda3/envs/airbnb_new_users_booking/lib/python3.11/site-packages/sweetviz/series_analyzer_cat.py:28: FutureWarning: iteritems is deprecated and will be removed in a future version. Use .items instead.\n",
      "  for item in category_counts.iteritems():\n",
      "/home/dbcordeiro/anaconda3/envs/airbnb_new_users_booking/lib/python3.11/site-packages/sweetviz/series_analyzer_numeric.py:25: FutureWarning: The 'mad' method is deprecated and will be removed in a future version. To compute the same result, you may do `(df - df.mean()).abs().mean()`.\n",
      "  stats[\"mad\"] = series.mad()\n",
      "/home/dbcordeiro/anaconda3/envs/airbnb_new_users_booking/lib/python3.11/site-packages/sweetviz/series_analyzer_cat.py:28: FutureWarning: iteritems is deprecated and will be removed in a future version. Use .items instead.\n",
      "  for item in category_counts.iteritems():\n",
      "/home/dbcordeiro/anaconda3/envs/airbnb_new_users_booking/lib/python3.11/site-packages/sweetviz/series_analyzer_cat.py:28: FutureWarning: iteritems is deprecated and will be removed in a future version. Use .items instead.\n",
      "  for item in category_counts.iteritems():\n",
      "/home/dbcordeiro/anaconda3/envs/airbnb_new_users_booking/lib/python3.11/site-packages/sweetviz/series_analyzer_cat.py:28: FutureWarning: iteritems is deprecated and will be removed in a future version. Use .items instead.\n",
      "  for item in category_counts.iteritems():\n",
      "/home/dbcordeiro/anaconda3/envs/airbnb_new_users_booking/lib/python3.11/site-packages/sweetviz/series_analyzer_cat.py:28: FutureWarning: iteritems is deprecated and will be removed in a future version. Use .items instead.\n",
      "  for item in category_counts.iteritems():\n",
      "/home/dbcordeiro/anaconda3/envs/airbnb_new_users_booking/lib/python3.11/site-packages/sweetviz/series_analyzer_cat.py:28: FutureWarning: iteritems is deprecated and will be removed in a future version. Use .items instead.\n",
      "  for item in category_counts.iteritems():\n",
      "/home/dbcordeiro/anaconda3/envs/airbnb_new_users_booking/lib/python3.11/site-packages/sweetviz/series_analyzer_cat.py:28: FutureWarning: iteritems is deprecated and will be removed in a future version. Use .items instead.\n",
      "  for item in category_counts.iteritems():\n",
      "/home/dbcordeiro/anaconda3/envs/airbnb_new_users_booking/lib/python3.11/site-packages/sweetviz/series_analyzer_cat.py:28: FutureWarning: iteritems is deprecated and will be removed in a future version. Use .items instead.\n",
      "  for item in category_counts.iteritems():\n",
      "/home/dbcordeiro/anaconda3/envs/airbnb_new_users_booking/lib/python3.11/site-packages/sweetviz/series_analyzer_cat.py:28: FutureWarning: iteritems is deprecated and will be removed in a future version. Use .items instead.\n",
      "  for item in category_counts.iteritems():\n",
      "/home/dbcordeiro/anaconda3/envs/airbnb_new_users_booking/lib/python3.11/site-packages/sweetviz/series_analyzer_cat.py:28: FutureWarning: iteritems is deprecated and will be removed in a future version. Use .items instead.\n",
      "  for item in category_counts.iteritems():\n",
      "/home/dbcordeiro/anaconda3/envs/airbnb_new_users_booking/lib/python3.11/site-packages/sweetviz/series_analyzer_cat.py:28: FutureWarning: iteritems is deprecated and will be removed in a future version. Use .items instead.\n",
      "  for item in category_counts.iteritems():\n"
     ]
    },
    {
     "name": "stdout",
     "output_type": "stream",
     "text": [
      "Report SWEETVIZ_REPORT.html was generated! NOTEBOOK/COLAB USERS: the web browser MAY not pop up, regardless, the report IS saved in your notebook/colab files.\n"
     ]
    }
   ],
   "source": [
    "report = sv.analyze(df2.loc[:, df2.columns != 'id'])\n",
    "report.show_html()"
   ]
  },
  {
   "cell_type": "markdown",
   "id": "53118f03-3cd4-4851-a0b8-7326d361305a",
   "metadata": {},
   "source": [
    "# 4.0 Feature Engineering"
   ]
  },
  {
   "cell_type": "code",
   "execution_count": null,
   "id": "b5ce4c15-a7aa-4a3d-bd76-9f6fec1da705",
   "metadata": {},
   "outputs": [],
   "source": [
    "Image('')"
   ]
  },
  {
   "cell_type": "markdown",
   "id": "868cbf42-11ae-47e5-bc5c-cc484bc11b60",
   "metadata": {},
   "source": [
    "# Data Preparation"
   ]
  },
  {
   "cell_type": "code",
   "execution_count": null,
   "id": "365f35b7-ec0b-4083-87ff-d6a51a6cccbb",
   "metadata": {},
   "outputs": [],
   "source": []
  },
  {
   "cell_type": "code",
   "execution_count": 61,
   "id": "a94f5640-dc8a-4956-a773-b56e040afb71",
   "metadata": {
    "execution": {
     "iopub.execute_input": "2022-11-12T15:14:45.265005Z",
     "iopub.status.busy": "2022-11-12T15:14:45.264849Z",
     "iopub.status.idle": "2022-11-12T15:14:45.268741Z",
     "shell.execute_reply": "2022-11-12T15:14:45.268146Z",
     "shell.execute_reply.started": "2022-11-12T15:14:45.264994Z"
    },
    "tags": []
   },
   "outputs": [],
   "source": []
  },
  {
   "cell_type": "markdown",
   "id": "c4f07a42-1b13-4085-a57e-fd6cdc970d0b",
   "metadata": {},
   "source": [
    "# Feature Selection"
   ]
  },
  {
   "cell_type": "code",
   "execution_count": 62,
   "id": "85166678-63c4-405b-912f-41bcb17c4cae",
   "metadata": {
    "execution": {
     "iopub.execute_input": "2022-11-12T15:15:49.115642Z",
     "iopub.status.busy": "2022-11-12T15:15:49.115478Z",
     "iopub.status.idle": "2022-11-12T15:15:49.117931Z",
     "shell.execute_reply": "2022-11-12T15:15:49.117563Z",
     "shell.execute_reply.started": "2022-11-12T15:15:49.115630Z"
    },
    "tags": []
   },
   "outputs": [],
   "source": [
    "cols_drop = ['date_account_created', 'timestamp_first_active', 'date_first_booking']\n",
    "df4 = df3.drop(cols_drop, axis=1)"
   ]
  },
  {
   "cell_type": "code",
   "execution_count": 63,
   "id": "e1aca386-b841-44d8-add7-1ba4b1dfbbcf",
   "metadata": {
    "execution": {
     "iopub.execute_input": "2022-11-12T15:21:58.077088Z",
     "iopub.status.busy": "2022-11-12T15:21:58.076872Z",
     "iopub.status.idle": "2022-11-12T15:21:58.228762Z",
     "shell.execute_reply": "2022-11-12T15:21:58.228159Z",
     "shell.execute_reply.started": "2022-11-12T15:21:58.077077Z"
    },
    "tags": []
   },
   "outputs": [
    {
     "ename": "NameError",
     "evalue": "name 'df4' is not defined",
     "output_type": "error",
     "traceback": [
      "\u001b[0;31m---------------------------------------------------------------------------\u001b[0m",
      "\u001b[0;31mNameError\u001b[0m                                 Traceback (most recent call last)",
      "Cell \u001b[0;32mIn [63], line 1\u001b[0m\n\u001b[0;32m----> 1\u001b[0m predictors \u001b[38;5;241m=\u001b[39m \u001b[43mdf4\u001b[49m\u001b[38;5;241m.\u001b[39mdrop([\u001b[38;5;124m'\u001b[39m\u001b[38;5;124mid\u001b[39m\u001b[38;5;124m'\u001b[39m,\u001b[38;5;124m'\u001b[39m\u001b[38;5;124mcountry_destination\u001b[39m\u001b[38;5;124m'\u001b[39m])\u001b[38;5;241m.\u001b[39mcopy()\n\u001b[1;32m      2\u001b[0m response \u001b[38;5;241m=\u001b[39m df4[\u001b[38;5;124m'\u001b[39m\u001b[38;5;124mcountry_destination\u001b[39m\u001b[38;5;124m'\u001b[39m]\n",
      "\u001b[0;31mNameError\u001b[0m: name 'df4' is not defined"
     ]
    }
   ],
   "source": [
    "predictors = df4.drop('country_destination').copy()\n",
    "response = df4['country_destination']"
   ]
  },
  {
   "cell_type": "code",
   "execution_count": null,
   "id": "33213af8-268d-4e26-a50a-a1be9cd942c7",
   "metadata": {},
   "outputs": [],
   "source": [
    "Sequential()"
   ]
  }
 ],
 "metadata": {
  "kernelspec": {
   "display_name": "Python 3 (ipykernel)",
   "language": "python",
   "name": "python3"
  },
  "language_info": {
   "codemirror_mode": {
    "name": "ipython",
    "version": 3
   },
   "file_extension": ".py",
   "mimetype": "text/x-python",
   "name": "python",
   "nbconvert_exporter": "python",
   "pygments_lexer": "ipython3",
   "version": "3.11.0"
  }
 },
 "nbformat": 4,
 "nbformat_minor": 5
}
